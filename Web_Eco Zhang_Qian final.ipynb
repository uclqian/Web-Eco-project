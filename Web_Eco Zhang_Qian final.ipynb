{
 "cells": [
  {
   "cell_type": "code",
   "execution_count": null,
   "metadata": {
    "collapsed": true
   },
   "outputs": [],
   "source": [
    "#%matplotlib inline\n",
    "import pandas as pd\n",
    "import matplotlib.pyplot as plt\n",
    "import seaborn as sns"
   ]
  },
  {
   "cell_type": "code",
   "execution_count": 81,
   "metadata": {
    "collapsed": false
   },
   "outputs": [],
   "source": [
    "train=pd.read_csv(\"/Users/zhangqian/Desktop/WEB Economics final project/mao_processed data/train_index.csv\")"
   ]
  },
  {
   "cell_type": "code",
   "execution_count": 87,
   "metadata": {
    "collapsed": false
   },
   "outputs": [
    {
     "data": {
      "text/plain": [
       "count    2.697738e+06\n",
       "mean     8.025102e+01\n",
       "std      6.236699e+01\n",
       "min      0.000000e+00\n",
       "25%      3.300000e+01\n",
       "50%      7.000000e+01\n",
       "75%      1.010000e+02\n",
       "max      3.000000e+02\n",
       "Name: payprice, dtype: float64"
      ]
     },
     "execution_count": 87,
     "metadata": {},
     "output_type": "execute_result"
    }
   ],
   "source": [
    "train['payprice'].describe()"
   ]
  },
  {
   "cell_type": "code",
   "execution_count": 76,
   "metadata": {
    "collapsed": false
   },
   "outputs": [],
   "source": [
    "orig_train=pd.read_csv(\"/Users/zhangqian/Desktop/WEB Economics final project/dataset/train.csv\")"
   ]
  },
  {
   "cell_type": "code",
   "execution_count": 42,
   "metadata": {
    "collapsed": false
   },
   "outputs": [],
   "source": [
    "citylist=list(orig_train['city'].value_counts())"
   ]
  },
  {
   "cell_type": "markdown",
   "metadata": {},
   "source": [
    "#Data analysis"
   ]
  },
  {
   "cell_type": "code",
   "execution_count": 60,
   "metadata": {
    "collapsed": true
   },
   "outputs": [],
   "source": [
    "def city_ctr(i):\n",
    "    one_city_data=orig_train[orig_train.city==i]\n",
    "    ctr_city_i=sum(one_city_data.click)/sum(orig_train.click)\n",
    "    return ctr_city_i\n",
    "\n",
    "all_city_ctr_list=[]\n",
    "for i in range(0,len(citylist)):\n",
    "    all_city_ctr_list.append(city_ctr(i))"
   ]
  },
  {
   "cell_type": "code",
   "execution_count": 61,
   "metadata": {
    "collapsed": false
   },
   "outputs": [],
   "source": [
    "city=range(0,len(citylist))"
   ]
  },
  {
   "cell_type": "code",
   "execution_count": 62,
   "metadata": {
    "collapsed": false
   },
   "outputs": [
    {
     "data": {
      "text/plain": [
       "(370, 370)"
      ]
     },
     "execution_count": 62,
     "metadata": {},
     "output_type": "execute_result"
    }
   ],
   "source": [
    "len(city),len(all_city_ctr_list)"
   ]
  },
  {
   "cell_type": "code",
   "execution_count": 21,
   "metadata": {
    "collapsed": true
   },
   "outputs": [],
   "source": [
    "weekday_ctr=[0.000630, 0.000678,0.000908,0.000908,0.000861,0.000791,0.000560]\n",
    "weekday=[0,1,2,3,4,5,6]"
   ]
  },
  {
   "cell_type": "code",
   "execution_count": 31,
   "metadata": {
    "collapsed": false
   },
   "outputs": [
    {
     "data": {
      "text/plain": [
       "<matplotlib.text.Text at 0x112b497f0>"
      ]
     },
     "execution_count": 31,
     "metadata": {},
     "output_type": "execute_result"
    }
   ],
   "source": [
    "plt.plot(weekday,weekday_ctr,)\n",
    "plt.xlabel('Weekdays')\n",
    "plt.ylabel('CTR')\n",
    "#plt.show()\n",
    "#plt.tight_layout()\n",
    "#plt.savefig('allhourctr.png',dpi=400)"
   ]
  },
  {
   "cell_type": "code",
   "execution_count": 35,
   "metadata": {
    "collapsed": false
   },
   "outputs": [],
   "source": [
    "def hour_ctr(i):\n",
    "    hour_data=orig_train[orig_train.hour==i]\n",
    "    ctr_weekday_i=sum(hour_data.click)/sum(orig_train.click)\n",
    "    return ctr_weekday_i\n",
    "\n",
    "all_hour_ctr_list=[]\n",
    "for i in range(0,24):\n",
    "    all_hour_ctr_list.append(hour_ctr(i))"
   ]
  },
  {
   "cell_type": "code",
   "execution_count": 40,
   "metadata": {
    "collapsed": false
   },
   "outputs": [],
   "source": [
    "plt.plot(hour,all_hour_ctr_list)\n",
    "plt.xlabel('Hour')\n",
    "plt.ylabel('CTR')\n",
    "#plt.show()\n",
    "plt.tight_layout()\n",
    "plt.savefig('allhourctr.png',dpi=400)"
   ]
  },
  {
   "cell_type": "markdown",
   "metadata": {},
   "source": [
    "##data analysis on different advertiser"
   ]
  },
  {
   "cell_type": "code",
   "execution_count": 5,
   "metadata": {
    "collapsed": false
   },
   "outputs": [],
   "source": [
    "\n",
    "advs = [3427, 2997, 3386, 3476, 2821]\n",
    "dataframes = []\n",
    "for sta_train in advs:\n",
    "    df = orig_train[orig_train['advertiser'] == sta_train]\n",
    "    ctr = df.groupby('weekday').agg({'click':{'click':sum}, 'bidid': {'imps' : 'count'}})\n",
    "    ctr.columns = ctr.columns.droplevel(0)\n",
    "    ctr['ctr'] = (ctr.click / ctr.imps) * 100\n",
    "    dataframes.append(ctr)\n",
    "plt.plot(dataframes[0]['ctr'], label=str(advs[0]), marker='*')\n",
    "plt.plot(dataframes[1]['ctr'], label=str(advs[1]), marker='o')\n",
    "plt.plot(dataframes[2]['ctr'], label=str(advs[2]), marker='.')\n",
    "plt.plot(dataframes[3]['ctr'], label=str(advs[3]), marker='*')\n",
    "plt.plot(dataframes[4]['ctr'], label=str(advs[4]), marker='o')\n",
    "plt.ylabel('CTR')\n",
    "plt.xlabel('Weekdays')\n",
    "plt.margins(0.05)\n",
    "plt.legend()\n",
    "plt.tight_layout()\n",
    "plt.savefig('weekdayCTR.png',dpi=400)"
   ]
  },
  {
   "cell_type": "code",
   "execution_count": 8,
   "metadata": {
    "collapsed": false
   },
   "outputs": [],
   "source": [
    "advs = [3427, 2997, 3386, 3476, 2821]\n",
    "dataframes = []\n",
    "for sta_train in advs:\n",
    "    df = orig_train[orig_train['advertiser'] == sta_train]\n",
    "    ctr = df.groupby('hour').agg({'click':{'click':sum}, 'bidid': {'imps' : 'count'}})\n",
    "    ctr.columns = ctr.columns.droplevel(0)\n",
    "    ctr['ctr'] = (ctr.click / ctr.imps) * 100\n",
    "    dataframes.append(ctr)\n",
    "plt.plot(dataframes[0]['ctr'], label=str(advs[0]), marker='*')\n",
    "plt.plot(dataframes[1]['ctr'], label=str(advs[1]), marker='o')\n",
    "plt.plot(dataframes[2]['ctr'], label=str(advs[2]), marker='.')\n",
    "plt.plot(dataframes[3]['ctr'], label=str(advs[3]), marker='*')\n",
    "plt.plot(dataframes[4]['ctr'], label=str(advs[4]), marker='o')\n",
    "plt.ylabel('CTR')\n",
    "plt.xlabel('Hour')\n",
    "plt.margins(0.05)\n",
    "plt.legend()\n",
    "#plt.show()\n",
    "plt.tight_layout()\n",
    "plt.savefig('hourCTR.png',dpi=400)"
   ]
  },
  {
   "cell_type": "code",
   "execution_count": 80,
   "metadata": {
    "collapsed": false
   },
   "outputs": [],
   "source": [
    "advs = [3427, 2997, 3386, 3476, 2821]\n",
    "dataframes = []\n",
    "for sta_train in advs:\n",
    "    df = orig_train[orig_train['advertiser'] == sta_train]\n",
    "    ctr = df.groupby('bidprice').agg({'click':{'click':sum}, 'bidid': {'imps' : 'count'}})\n",
    "    ctr.columns = ctr.columns.droplevel(0)\n",
    "    ctr['ctr'] = (ctr.click / ctr.imps) * 100\n",
    "    dataframes.append(ctr)\n",
    "plt.plot(dataframes[0]['ctr'], label=str(advs[0]), marker='*')\n",
    "plt.plot(dataframes[1]['ctr'], label=str(advs[1]), marker='o')\n",
    "plt.plot(dataframes[2]['ctr'], label=str(advs[2]), marker='.')\n",
    "plt.plot(dataframes[3]['ctr'], label=str(advs[3]), marker='*')\n",
    "plt.plot(dataframes[4]['ctr'], label=str(advs[4]), marker='o')\n",
    "plt.ylabel('CTR')\n",
    "plt.xlabel('Bidprice')\n",
    "plt.margins(0.05)\n",
    "plt.legend()\n",
    "#plt.show()\n",
    "plt.tight_layout()\n",
    "plt.savefig('advertiser_bidding.png',dpi=400)"
   ]
  },
  {
   "cell_type": "markdown",
   "metadata": {},
   "source": [
    "# build CTR estimator"
   ]
  },
  {
   "cell_type": "code",
   "execution_count": 3,
   "metadata": {
    "collapsed": true
   },
   "outputs": [],
   "source": [
    "from sklearn import linear_model"
   ]
  },
  {
   "cell_type": "code",
   "execution_count": 4,
   "metadata": {
    "collapsed": true
   },
   "outputs": [],
   "source": [
    "l =['IP', 'adexchange', 'creative', 'domain', 'keypage',\n",
    "       'slotformat', 'slotheight', 'slotid', 'slotvisibility', 'slotwidth',\n",
    "       'url', 'useragent', 'userid', 'tag0', 'tag1', 'tag2', 'tag3', 'tag4',\n",
    "       'tag5', 'tag6', 'tag7', 'tag8', 'tag9', 'tag10', 'tag11', 'tag12',\n",
    "       'tag13', 'tag14', 'tag15', 'tag16', 'tag17', 'tag18', 'tag19', 'tag20',\n",
    "       'tag21', 'tag22', 'tag23', 'tag24', 'tag25', 'tag26', 'tag27', 'tag28',\n",
    "       'tag29', 'tag30', 'tag31', 'tag32', 'tag33', 'tag34', 'tag35', 'tag36',\n",
    "       'tag37', 'tag38', 'tag39', 'tag40', 'tag41', 'tag42', 'tag43', 'tag44',\n",
    "       'tag45', 'tag46', 'tag47', 'tag48', 'tag49', 'tag50', 'tag51', 'tag52',\n",
    "       'tag53', 'tag54', 'tag55', 'tag56', 'tag57', 'tag58', 'tag59', 'tag60',\n",
    "       'tag61', 'tag62', 'tag63', 'tag64', 'tag65', 'tag66', 'tag67', 'tag68',\n",
    "        'weekday', 'hour', 'region', 'city', 'slotprice', 'bidprice',\n",
    "       'payprice', 'advertiser']\n",
    "x=train[l]\n"
   ]
  },
  {
   "cell_type": "code",
   "execution_count": 5,
   "metadata": {
    "collapsed": true
   },
   "outputs": [],
   "source": [
    "y=train['click']"
   ]
  },
  {
   "cell_type": "code",
   "execution_count": 6,
   "metadata": {
    "collapsed": false
   },
   "outputs": [],
   "source": [
    "validation=pd.read_csv(\"/Users/zhangqian/Desktop/WEB Economics final project/mao_processed data/val_index.csv\")"
   ]
  },
  {
   "cell_type": "code",
   "execution_count": 7,
   "metadata": {
    "collapsed": true
   },
   "outputs": [],
   "source": [
    "validation_data=validation[l]\n",
    "validation_click=validation['click']"
   ]
  },
  {
   "cell_type": "code",
   "execution_count": 8,
   "metadata": {
    "collapsed": false
   },
   "outputs": [
    {
     "data": {
      "text/plain": [
       "0    299523\n",
       "1       226\n",
       "Name: click, dtype: int64"
      ]
     },
     "execution_count": 8,
     "metadata": {},
     "output_type": "execute_result"
    }
   ],
   "source": [
    "validation_click.value_counts()"
   ]
  },
  {
   "cell_type": "code",
   "execution_count": 9,
   "metadata": {
    "collapsed": false
   },
   "outputs": [
    {
     "data": {
      "text/plain": [
       "0.00075396415000550463"
      ]
     },
     "execution_count": 9,
     "metadata": {},
     "output_type": "execute_result"
    }
   ],
   "source": [
    "validation_avg_ctr=sum(validation.click)/len(validation)\n",
    "validation_avg_ctr"
   ]
  },
  {
   "cell_type": "code",
   "execution_count": 479,
   "metadata": {
    "collapsed": false
   },
   "outputs": [],
   "source": [
    "lg_regr=linear_model.LogisticRegression(C=10,penalty='l2') "
   ]
  },
  {
   "cell_type": "code",
   "execution_count": 480,
   "metadata": {
    "collapsed": false
   },
   "outputs": [],
   "source": [
    "lg_model = lg_regr.fit(x,y)"
   ]
  },
  {
   "cell_type": "code",
   "execution_count": 481,
   "metadata": {
    "collapsed": false
   },
   "outputs": [],
   "source": [
    "lg_predict = lg_model.predict_proba(validation_data)"
   ]
  },
  {
   "cell_type": "code",
   "execution_count": 482,
   "metadata": {
    "collapsed": false
   },
   "outputs": [],
   "source": [
    "lg_click_ctr =[]\n",
    "for l in lg_predict:\n",
    "    lg_click_ctr.append(l[1])"
   ]
  },
  {
   "cell_type": "code",
   "execution_count": 77,
   "metadata": {
    "collapsed": true
   },
   "outputs": [],
   "source": [
    "pctr_lg=pd.DataFrame(lg_click_ctr)\n",
    "pctr_lg.to_csv('balanced_pctr_lg.csv')"
   ]
  },
  {
   "cell_type": "code",
   "execution_count": 485,
   "metadata": {
    "collapsed": false
   },
   "outputs": [],
   "source": [
    "plt.hist(lg_click_ctr,bins=100) #bins=100\n",
    "plt.xlabel(\"predicted CTR by Logistic Regression\")\n",
    "plt.ylabel(\"count\")\n",
    "plt.axvline(x=validation_avg_ctr, color='r')\n",
    "#plt.show()\n",
    "plt.tight_layout()\n",
    "plt.savefig('logistic_regression.png',dpi=400)\n",
    "\n"
   ]
  },
  {
   "cell_type": "code",
   "execution_count": 16,
   "metadata": {
    "collapsed": false
   },
   "outputs": [],
   "source": [
    "#SVC model\n",
    "from sklearn.calibration import CalibratedClassifierCV\n",
    "from sklearn.svm import LinearSVC #svc linear/svm linear!!##\n",
    "#from sklearn.calibration import CalibratedClassifierCV\n",
    "#from sklearn import ensemble\n",
    " #sklearn.svm.LinearSVC(penalty='l2', loss='squared_hinge', dual=True, tol=0.0001, C=1.0, multi_class='ovr', fit_intercept=True, intercept_scaling=1, class_weight=None, verbose=0, random_state=None, max_iter=1000)[source]¶"
   ]
  },
  {
   "cell_type": "code",
   "execution_count": 17,
   "metadata": {
    "collapsed": false
   },
   "outputs": [],
   "source": [
    "svc_way = CalibratedClassifierCV(LinearSVC())"
   ]
  },
  {
   "cell_type": "code",
   "execution_count": 18,
   "metadata": {
    "collapsed": false
   },
   "outputs": [],
   "source": [
    "svc_model=svc_way.fit(x, y) "
   ]
  },
  {
   "cell_type": "code",
   "execution_count": 19,
   "metadata": {
    "collapsed": false
   },
   "outputs": [],
   "source": [
    "#svc_predict=svc_model.predict_proba(validation_data) #LinearSVC' object has no attribute 'predict_proba_proba'\n",
    "svc_predict=svc_model.predict_proba(validation_data)"
   ]
  },
  {
   "cell_type": "code",
   "execution_count": 23,
   "metadata": {
    "collapsed": false
   },
   "outputs": [
    {
     "data": {
      "text/plain": [
       "array([[  9.99279339e-01,   7.20660652e-04],\n",
       "       [  9.99212531e-01,   7.87469021e-04],\n",
       "       [  9.99232032e-01,   7.67967817e-04],\n",
       "       ..., \n",
       "       [  9.99238456e-01,   7.61543512e-04],\n",
       "       [  9.99267644e-01,   7.32355660e-04],\n",
       "       [  9.99232717e-01,   7.67282926e-04]])"
      ]
     },
     "execution_count": 23,
     "metadata": {},
     "output_type": "execute_result"
    }
   ],
   "source": [
    "svc_predict"
   ]
  },
  {
   "cell_type": "code",
   "execution_count": 24,
   "metadata": {
    "collapsed": false
   },
   "outputs": [],
   "source": [
    "svc_click_ctr =[]\n",
    "for l in svc_predict:\n",
    "    svc_click_ctr.append(l[1])"
   ]
  },
  {
   "cell_type": "code",
   "execution_count": 46,
   "metadata": {
    "collapsed": true
   },
   "outputs": [],
   "source": [
    "pctr_svc=pd.DataFrame(svc_click_ctr)\n",
    "pctr_svc.to_csv('pctr_svc.csv')"
   ]
  },
  {
   "cell_type": "code",
   "execution_count": 27,
   "metadata": {
    "collapsed": false
   },
   "outputs": [],
   "source": [
    "plt.hist(svc_click_ctr,bins=100) #bin###,bins=[-3,1]\n",
    "plt.xlabel(\"predicted CTR by SVC\")\n",
    "plt.ylabel(\"count\")\n",
    "plt.axvline(x=validation_avg_ctr, color='r')\n",
    "#plt.show()\n",
    "plt.tight_layout()\n",
    "plt.savefig('svm.png',dpi=400)"
   ]
  },
  {
   "cell_type": "code",
   "execution_count": 118,
   "metadata": {
    "collapsed": false
   },
   "outputs": [],
   "source": [
    "tree_way = CalibratedClassifierCV(tree.DecisionTreeClassifier(criterion='entropy')) #yufei's parameter #default cv is 3 "
   ]
  },
  {
   "cell_type": "code",
   "execution_count": 119,
   "metadata": {
    "collapsed": false
   },
   "outputs": [],
   "source": [
    "tree_model = tree_way.fit(x, y)"
   ]
  },
  {
   "cell_type": "code",
   "execution_count": 120,
   "metadata": {
    "collapsed": false
   },
   "outputs": [],
   "source": [
    "tree_predict=tree_model.predict(validation_data)"
   ]
  },
  {
   "cell_type": "code",
   "execution_count": 89,
   "metadata": {
    "collapsed": false
   },
   "outputs": [],
   "source": [
    "tree_click_ctr =[]\n",
    "for l in tree_predict:\n",
    "   tree_click_ctr.append(l[1])"
   ]
  },
  {
   "cell_type": "code",
   "execution_count": null,
   "metadata": {
    "collapsed": false
   },
   "outputs": [],
   "source": [
    "pctr_tree=pd.DataFrame(tree_click_ctr)\n",
    "pctr_tree.to_csv('pctr_treeclassifier.csv')"
   ]
  },
  {
   "cell_type": "code",
   "execution_count": 45,
   "metadata": {
    "collapsed": true
   },
   "outputs": [],
   "source": [
    "pctr_tree.to_csv('pctr_tree.csv')"
   ]
  },
  {
   "cell_type": "code",
   "execution_count": 41,
   "metadata": {
    "collapsed": false
   },
   "outputs": [],
   "source": [
    "plt.hist(tree_click_ctr,bins=100)\n",
    "plt.xlabel(\"predicted CTR by Decision Tree model\")\n",
    "plt.ylabel(\"count\")\n",
    "plt.axvline(x=validation_avg_ctr, color='r')\n",
    "#plt.show()\n",
    "plt.tight_layout()\n",
    "plt.savefig('decision_tree.png',dpi=400)\n"
   ]
  },
  {
   "cell_type": "markdown",
   "metadata": {},
   "source": [
    "#Evaluate estimator"
   ]
  },
  {
   "cell_type": "code",
   "execution_count": null,
   "metadata": {
    "collapsed": true
   },
   "outputs": [],
   "source": [
    "from sklearn.metrics import mean_squared_error"
   ]
  },
  {
   "cell_type": "code",
   "execution_count": null,
   "metadata": {
    "collapsed": false
   },
   "outputs": [],
   "source": [
    "true_click=validation['click']\n",
    "mean_squared_error(true_click,tree_click_ctr )"
   ]
  },
  {
   "cell_type": "code",
   "execution_count": null,
   "metadata": {
    "collapsed": true
   },
   "outputs": [],
   "source": [
    "import numpy as np"
   ]
  },
  {
   "cell_type": "code",
   "execution_count": 223,
   "metadata": {
    "collapsed": false
   },
   "outputs": [
    {
     "data": {
      "text/plain": [
       "0.028207749276925653"
      ]
     },
     "execution_count": 223,
     "metadata": {},
     "output_type": "execute_result"
    }
   ],
   "source": [
    "np.sqrt(0.00079567711926989979)"
   ]
  },
  {
   "cell_type": "code",
   "execution_count": null,
   "metadata": {
    "collapsed": false
   },
   "outputs": [],
   "source": [
    "mean_squared_error(true_click,lg_click_ctr)"
   ]
  },
  {
   "cell_type": "code",
   "execution_count": 224,
   "metadata": {
    "collapsed": false
   },
   "outputs": [
    {
     "data": {
      "text/plain": [
       "0.027447429638633815"
      ]
     },
     "execution_count": 224,
     "metadata": {},
     "output_type": "execute_result"
    }
   ],
   "source": [
    "np.sqrt(0.000753361393767754)"
   ]
  },
  {
   "cell_type": "code",
   "execution_count": null,
   "metadata": {
    "collapsed": false
   },
   "outputs": [],
   "source": [
    "mean_squared_error(true_click,svc_click_ctr)"
   ]
  },
  {
   "cell_type": "code",
   "execution_count": null,
   "metadata": {
    "collapsed": true
   },
   "outputs": [],
   "source": [
    "np.sqrt(mean_squared_error(true_click,random_click_ctr))"
   ]
  },
  {
   "cell_type": "code",
   "execution_count": 225,
   "metadata": {
    "collapsed": false
   },
   "outputs": [
    {
     "data": {
      "text/plain": [
       "0.027447981673935029"
      ]
     },
     "execution_count": 225,
     "metadata": {},
     "output_type": "execute_result"
    }
   ],
   "source": [
    "np.sqrt(0.00075339169797267321)"
   ]
  },
  {
   "cell_type": "code",
   "execution_count": 331,
   "metadata": {
    "collapsed": false
   },
   "outputs": [],
   "source": [
    "feier=pd.read_csv('RandomForest_result.csv')\n",
    "#mingda=pd.read_csv('mingda.csv')"
   ]
  },
  {
   "cell_type": "code",
   "execution_count": 335,
   "metadata": {
    "collapsed": false
   },
   "outputs": [],
   "source": [
    "feierlist=list(feier['0'])"
   ]
  },
  {
   "cell_type": "code",
   "execution_count": 94,
   "metadata": {
    "collapsed": true
   },
   "outputs": [],
   "source": [
    "from sklearn.metrics import roc_curve\n",
    "from sklearn import metrics\n",
    "from sklearn.metrics import auc"
   ]
  },
  {
   "cell_type": "code",
   "execution_count": 109,
   "metadata": {
    "collapsed": false
   },
   "outputs": [],
   "source": [
    "lg_pctr=pd.read_csv(\"pctr_lg.csv\")\n",
    "#lg_pctr['0']"
   ]
  },
  {
   "cell_type": "code",
   "execution_count": 123,
   "metadata": {
    "collapsed": true
   },
   "outputs": [],
   "source": [
    "tree_pctr=pd.read_csv(\"pctr_tree.csv\")\n",
    "#tree_pctr['0']"
   ]
  },
  {
   "cell_type": "code",
   "execution_count": 127,
   "metadata": {
    "collapsed": false
   },
   "outputs": [],
   "source": [
    "print (\"The AUC is:\",metrics.auc(fpr, tpr))"
   ]
  },
  {
   "cell_type": "code",
   "execution_count": 101,
   "metadata": {
    "collapsed": false
   },
   "outputs": [],
   "source": [
    "true_click=validation['click']\n",
    "fpr, tpr, thresholds = metrics.roc_curve(true_click, lg_pctr['0'])"
   ]
  },
  {
   "cell_type": "code",
   "execution_count": 113,
   "metadata": {
    "collapsed": true
   },
   "outputs": [],
   "source": [
    "fprsvc, tprsvc, thresholdssvc = metrics.roc_curve(true_click, svc_click_ctr)"
   ]
  },
  {
   "cell_type": "code",
   "execution_count": null,
   "metadata": {
    "collapsed": true
   },
   "outputs": [],
   "source": [
    "fprsvc, tprsvc, thresholdssvc = metrics.roc_curve(true_click, svc_click_ctr)"
   ]
  },
  {
   "cell_type": "code",
   "execution_count": 128,
   "metadata": {
    "collapsed": true
   },
   "outputs": [],
   "source": [
    "fprtree, tprtree, thresholdstree = metrics.roc_curve(true_click, tree_pctr['0'])\n"
   ]
  },
  {
   "cell_type": "code",
   "execution_count": 317,
   "metadata": {
    "collapsed": false
   },
   "outputs": [],
   "source": [
    "fprftrl, tprftrl, thresholdsftrl = metrics.roc_curve(true_click, mingdalist)"
   ]
  },
  {
   "cell_type": "code",
   "execution_count": 341,
   "metadata": {
    "collapsed": true
   },
   "outputs": [],
   "source": [
    "fprforest, tprforest,thresholdsforest = metrics.roc_curve(true_click, feierlist)"
   ]
  },
  {
   "cell_type": "code",
   "execution_count": 342,
   "metadata": {
    "collapsed": true
   },
   "outputs": [],
   "source": [
    "roc_auc = auc(fpr, tpr)\n",
    "roc_aucsvc = auc(fprsvc, tprsvc)\n",
    "roc_auctree=auc(fprtree, tprtree)\n",
    "roc_aucftrl=auc(fprftrl, tprftrl)\n",
    "roc_aucforest=auc(fprforest, tprforest)"
   ]
  },
  {
   "cell_type": "code",
   "execution_count": 343,
   "metadata": {
    "collapsed": false
   },
   "outputs": [
    {
     "data": {
      "text/plain": [
       "(0.5755788872448786,\n",
       " 0.49976455189119434,\n",
       " 0.68212892865437758,\n",
       " 0.79980585798085613,\n",
       " 0.69346137940446251)"
      ]
     },
     "execution_count": 343,
     "metadata": {},
     "output_type": "execute_result"
    }
   ],
   "source": [
    "roc_auc,roc_aucsvc,roc_auctree,roc_aucftrl,roc_aucforest"
   ]
  },
  {
   "cell_type": "code",
   "execution_count": 347,
   "metadata": {
    "collapsed": false
   },
   "outputs": [],
   "source": [
    "#plt.plot([0, 1], [0, 1], color='navy', lw=lw, linestyle='--')\n",
    "\n",
    "#plt.plot(fpr, tpr, color='darkorange',label='LG ROC curve (area = 0.576)' ) #lw=lw % roc_auc\n",
    "#plt.plot(fprsvc,tprsvc,color='navy',label='SVC ROC curve (area = 0.499)')\n",
    "plt.plot(fprtree,tprtree, color='red', label='Tree ROC curve (area= 0.682)')\n",
    "plt.plot(fprftrl, tprftrl, color='navy', label='FTRL ROC curve (area=0.799)')\n",
    "plt.plot(fprforest, tprforest, color='darkorange', label='Random Forest ROC curve (area=0.694)')\n",
    "plt.xlabel('FPR')\n",
    "plt.ylabel('TPR')\n",
    "plt.legend(loc=4)\n",
    "#plt.show()\n",
    "\n",
    "plt.tight_layout()\n",
    "plt.savefig('all_three_ROC.png',dpi=400)"
   ]
  },
  {
   "cell_type": "markdown",
   "metadata": {
    "collapsed": true
   },
   "source": [
    "# Bidding strategies"
   ]
  },
  {
   "cell_type": "code",
   "execution_count": 58,
   "metadata": {
    "collapsed": false
   },
   "outputs": [],
   "source": [
    "def result(pre_bidprice):\n",
    "    a=pd.DataFrame()\n",
    "    a['val_click']=validation['click']  #[:j-1]\n",
    "    a['payprice']=validation['payprice']\n",
    "    a['pre_bidprice']=pd.Series(pre_bidprice, index=validation.index)\n",
    "    a['bid_win'] = a['pre_bidprice']-a['payprice']\n",
    "     \n",
    "    a = a[a['bid_win']>=0]\n",
    "    \n",
    "    pre_win_impression=len(a)\n",
    "    pre_win_clicks=sum(a['val_click'])\n",
    "    pre_CTR=pre_win_clicks/pre_win_impression #the clicked impression\n",
    "    pre_spend=sum(a['payprice'])/1000\n",
    "    pre_ACPM=pre_spend/pre_win_impression #cost per 1000 impressions\n",
    "    pre_CPC= pre_win_clicks/pre_spend\n",
    "    \n",
    "    l=[pre_CTR,pre_win_clicks,pre_spend, pre_ACPM,pre_CPC]\n",
    "    return l"
   ]
  },
  {
   "cell_type": "code",
   "execution_count": 56,
   "metadata": {
    "collapsed": false
   },
   "outputs": [
    {
     "data": {
      "text/plain": [
       "0.00075396415000550463"
      ]
     },
     "execution_count": 56,
     "metadata": {},
     "output_type": "execute_result"
    }
   ],
   "source": [
    "val_avgCTR=sum(validation['click'])/len(validation)\n",
    "val_avgCTR"
   ]
  },
  {
   "cell_type": "code",
   "execution_count": 59,
   "metadata": {
    "collapsed": true
   },
   "outputs": [],
   "source": [
    "val_avgCTR=sum(validation['click'])/len(validation)\n",
    "base_bid=350\n",
    "pre_bidprice=base_bid * (tree_click_ctr/val_avgCTR) "
   ]
  },
  {
   "cell_type": "code",
   "execution_count": 75,
   "metadata": {
    "collapsed": false
   },
   "outputs": [],
   "source": [
    "lin_lg_result=[result(i * (lg_click_ctr/val_avgCTR)) for i in range(1,300)]"
   ]
  },
  {
   "cell_type": "code",
   "execution_count": 90,
   "metadata": {
    "collapsed": false
   },
   "outputs": [],
   "source": [
    "pd.DataFrame(lin_lg_result).to_csv(\"lin_lg\")"
   ]
  },
  {
   "cell_type": "code",
   "execution_count": 266,
   "metadata": {
    "collapsed": false
   },
   "outputs": [],
   "source": [
    "lgpctr_lin_clicks=[validation_budget(i * (lg_click_ctr/val_avgCTR),6250)[4] for i in range (0,300)] \n"
   ]
  },
  {
   "cell_type": "code",
   "execution_count": 267,
   "metadata": {
    "collapsed": false
   },
   "outputs": [
    {
     "data": {
      "text/plain": [
       "(300, 300)"
      ]
     },
     "execution_count": 267,
     "metadata": {},
     "output_type": "execute_result"
    }
   ],
   "source": [
    "treepctr_lin_clicks=[validation_budget(i * (tree/val_avgCTR),6250)[4] for i in range (0,300)] "
   ]
  },
  {
   "cell_type": "markdown",
   "metadata": {},
   "source": [
    "### calculate performance under different budget limit"
   ]
  },
  {
   "cell_type": "code",
   "execution_count": null,
   "metadata": {
    "collapsed": false
   },
   "outputs": [],
   "source": [
    "treepctr_lin_clicks_halfbudget=[validation_budget(i * (treelist/val_avgCTR),3125)[4] for i in range (0,300)]\n"
   ]
  },
  {
   "cell_type": "code",
   "execution_count": 261,
   "metadata": {
    "collapsed": false
   },
   "outputs": [],
   "source": [
    "lgpctr_lin_clicks_halfbudget=[validation_budget(i * (lg_click_ctr/val_avgCTR),3125)[4] for i in range (0,300)]\n"
   ]
  },
  {
   "cell_type": "code",
   "execution_count": null,
   "metadata": {
    "collapsed": true
   },
   "outputs": [],
   "source": [
    "treepctr_lin_clicksctr_lin_clicksctr_lin_clicks_1_4= [validation_budget(i * (treelist/val_avgCTR),1562)[4] for i in range (0,300)]"
   ]
  },
  {
   "cell_type": "code",
   "execution_count": 276,
   "metadata": {
    "collapsed": true
   },
   "outputs": [],
   "source": [
    "lgpctr_lin_clicksctr_lin_clicksctr_lin_clicks_1_4= [validation_budget(i * (lg_click_ctr/val_avgCTR),1562)[4] for i in range (0,300)]"
   ]
  },
  {
   "cell_type": "code",
   "execution_count": null,
   "metadata": {
    "collapsed": true
   },
   "outputs": [],
   "source": [
    "treepctr_lin_clicksctr_lin_clicksctr_lin_clicks_1_32= [validation_budget(i * (treelist/val_avgCTR),195)[4] for i in range (0,300)]"
   ]
  },
  {
   "cell_type": "code",
   "execution_count": 277,
   "metadata": {
    "collapsed": true
   },
   "outputs": [],
   "source": [
    "lgpctr_lin_clicksctr_lin_clicksctr_lin_clicks_1_32= [validation_budget(i * (lg_click_ctr/val_avgCTR),195)[4] for i in range (0,300)]"
   ]
  },
  {
   "cell_type": "markdown",
   "metadata": {
    "collapsed": false
   },
   "source": [
    "## nonlinear bidding strategy"
   ]
  },
  {
   "cell_type": "code",
   "execution_count": 173,
   "metadata": {
    "collapsed": false
   },
   "outputs": [],
   "source": [
    "def get_optimalbidprice(theta,c): # theta is the ctr, c is a constant\n",
    "    lam=5.2*10**(-7) #lambda\n",
    "    optimal_bid_price=c*(((theta + np.sqrt(c**2*lam**2 + theta**2))/(c*lam))**(1/3)-((c*lam)/(theta + np.sqrt((c**2*(lam**2) + theta**2)))**(1/3)))\n",
    "    return optimal_bid_price"
   ]
  },
  {
   "cell_type": "code",
   "execution_count": 278,
   "metadata": {
    "collapsed": false
   },
   "outputs": [],
   "source": [
    "\n",
    "treebest = []\n",
    "for c in range(1,300,1):\n",
    "   \n",
    "    bid_price_nonlinear=[]\n",
    "    for b in treelist:\n",
    "        \n",
    "        bid_price_nonlinear.append(get_optimalbidprice(b,c))\n",
    "    #validation_budget(bid_price_nonlinear,6250)\n",
    "    treebest.append(validation_budget(bid_price_nonlinear,6250))"
   ]
  },
  {
   "cell_type": "code",
   "execution_count": 372,
   "metadata": {
    "collapsed": true
   },
   "outputs": [],
   "source": [
    "mingdabest = []\n",
    "for c in range(1,300,1):\n",
    "   \n",
    "    bid_price_nonlinear=[]\n",
    "    for b in mingdalist:\n",
    "        \n",
    "        bid_price_nonlinear.append(get_optimalbidprice(b,c))\n",
    "    #validation_budget(bid_price_nonlinear,6250)\n",
    "    mingdabest.append(validation_budget(bid_price_nonlinear,6250))"
   ]
  },
  {
   "cell_type": "code",
   "execution_count": 373,
   "metadata": {
    "collapsed": true
   },
   "outputs": [],
   "source": [
    "mingda_diff_c_6250=pd.DataFrame(mingdabest, columns=['ctr','spend','cpc','cpm','clicks'])\n",
    "mingda_diff_c_6250.to_csv(\"mingda_diff_c_6250.csv\")"
   ]
  },
  {
   "cell_type": "code",
   "execution_count": 374,
   "metadata": {
    "collapsed": true
   },
   "outputs": [],
   "source": [
    "feierbest = []\n",
    "for c in range(1,300,1):\n",
    "   \n",
    "    bid_price_nonlinear=[]\n",
    "    for b in feierlist:\n",
    "        \n",
    "        bid_price_nonlinear.append(get_optimalbidprice(b,c))\n",
    "    #validation_budget(bid_price_nonlinear,6250)\n",
    "    feierbest.append(validation_budget(bid_price_nonlinear,6250))"
   ]
  },
  {
   "cell_type": "markdown",
   "metadata": {},
   "source": [
    "## compare among members of the group"
   ]
  },
  {
   "cell_type": "code",
   "execution_count": 375,
   "metadata": {
    "collapsed": true
   },
   "outputs": [],
   "source": [
    "feier_diff_c_6250=pd.DataFrame(feierbest, columns=['ctr','spend','cpc','cpm','clicks'])\n",
    "feier_diff_c_6250.to_csv(\"feier_diff_c_6250.csv\")"
   ]
  },
  {
   "cell_type": "code",
   "execution_count": 469,
   "metadata": {
    "collapsed": false
   },
   "outputs": [
    {
     "data": {
      "text/plain": [
       "0.0010194954459330787"
      ]
     },
     "execution_count": 469,
     "metadata": {},
     "output_type": "execute_result"
    }
   ],
   "source": [
    "max(qian_diff_c_6250['ctr'])"
   ]
  },
  {
   "cell_type": "code",
   "execution_count": 477,
   "metadata": {
    "collapsed": false
   },
   "outputs": [
    {
     "data": {
      "image/png": "[encoded data removed]",
      "text/plain": [
       "<matplotlib.figure.Figure at 0x115862a20>"
      ]
     },
     "metadata": {},
     "output_type": "display_data"
    }
   ],
   "source": [
    "#plt.plot(qian_diff_c_6250['clicks'], label =\"clicks\")\n",
    "plt.plot(qian_diff_c_6250['ctr'], label =\"CTR\") \n",
    "#plt.plot(qian_diff_c_6250['cpc'], label =\"CPC\")\n",
    "plt.xlabel(\"The value of c\")\n",
    "plt.ylabel(\"CTR\")\n",
    "plt.legend(loc=0)\n",
    "plt.show()\n",
    "#plt.tight_layout()\n",
    "#plt.savefig('cvalue_ctr.png',dpi=400)"
   ]
  },
  {
   "cell_type": "code",
   "execution_count": 378,
   "metadata": {
    "collapsed": false
   },
   "outputs": [],
   "source": [
    "qian_diff_c_6250=pd.DataFrame(treebest, columns=['ctr','spend','cpc','cpm','clicks'])"
   ]
  },
  {
   "cell_type": "code",
   "execution_count": 379,
   "metadata": {
    "collapsed": false
   },
   "outputs": [],
   "source": [
    "qian_diff_c_6250.to_csv(\"qian_diff_c_6250.csv\")"
   ]
  },
  {
   "cell_type": "code",
   "execution_count": 220,
   "metadata": {
    "collapsed": false
   },
   "outputs": [
    {
     "data": {
      "text/plain": [
       "[0.00092299670962241686,\n",
       " 5700.71,\n",
       " 43.516870229007637,\n",
       " 0.040165928034439753,\n",
       " 131]"
      ]
     },
     "execution_count": 220,
     "metadata": {},
     "output_type": "execute_result"
    }
   ],
   "source": [
    "\n",
    "bid_price_nonlinear=[]\n",
    "for b in list(tree_pctr['0']):\n",
    "        bid_price_nonlinear.append(get_optimalbidprice(b,8))\n",
    "validation_budget(bid_price_nonlinear,6250)"
   ]
  },
  {
   "cell_type": "code",
   "execution_count": 165,
   "metadata": {
    "collapsed": false
   },
   "outputs": [],
   "source": [
    "def validation_budget(bidding,budget):\n",
    "    new= validation.assign(bidding = bidding, diff= bidding -validation['payprice'])\n",
    "    new= new[new['diff'] >= 0]\n",
    "    cost= 0\n",
    "    index= 0\n",
    "    for pay in new.payprice:\n",
    "        cost= pay + cost\n",
    "        index += 1\n",
    "        if cost/1000 >= budget:\n",
    "            break\n",
    "        \n",
    "    \n",
    "    clicks =sum(new['click'][:index])\n",
    "    ctr= clicks/index\n",
    "    spend = sum(new['payprice'][:index])/1000\n",
    "    cpc = spend/clicks\n",
    "    cpm = spend/index\n",
    "    return [ctr,spend,cpc,cpm,clicks]"
   ]
  },
  {
   "cell_type": "code",
   "execution_count": 269,
   "metadata": {
    "collapsed": false
   },
   "outputs": [],
   "source": [
    "len(mingdalist), len(validation)"
   ]
  },
  {
   "cell_type": "code",
   "execution_count": 161,
   "metadata": {
    "collapsed": true
   },
   "outputs": [],
   "source": [
    "val_avgCTR=sum(validation['click'])/len(validation)\n",
    "base_bid=300\n",
    "mingdaprice=base_bid * (mingdalist/val_avgCTR)"
   ]
  },
  {
   "cell_type": "code",
   "execution_count": 167,
   "metadata": {
    "collapsed": false
   },
   "outputs": [
    {
     "data": {
      "text/plain": [
       "78"
      ]
     },
     "execution_count": 167,
     "metadata": {},
     "output_type": "execute_result"
    }
   ],
   "source": [
    "validation_budget(mingdaprice,6250)[4]"
   ]
  },
  {
   "cell_type": "code",
   "execution_count": 368,
   "metadata": {
    "collapsed": false
   },
   "outputs": [],
   "source": [
    "#build the linear bidding evaluation with different basebid and save it to csv\n",
    "mingda_lin300_6250=[validation_budget(i * (mingdalist/val_avgCTR),6250) for i in range (0,300)]\n",
    "pd.DataFrame(mingda_lin300_6250,columns=['ctr','spend','cpc','cpm','clicks']).to_csv(\"mingda_lin300_6250.csv\")"
   ]
  },
  {
   "cell_type": "code",
   "execution_count": 361,
   "metadata": {
    "collapsed": true
   },
   "outputs": [],
   "source": [
    "\n",
    "qian_lin300_6250=[validation_budget(i * (treelist/val_avgCTR),6250) for i in range (0,300)] \n"
   ]
  },
  {
   "cell_type": "code",
   "execution_count": 369,
   "metadata": {
    "collapsed": false
   },
   "outputs": [],
   "source": [
    "pd.DataFrame(qian_lin300_6250,columns=['ctr','spend','cpc','cpm','clicks']).to_csv(\"qian_lin300_6250.csv\")"
   ]
  },
  {
   "cell_type": "code",
   "execution_count": 370,
   "metadata": {
    "collapsed": true
   },
   "outputs": [],
   "source": [
    "feier_lin300_6250=[validation_budget(i * (feierlist/val_avgCTR),6250) for i in range (0,300)]"
   ]
  },
  {
   "cell_type": "code",
   "execution_count": 371,
   "metadata": {
    "collapsed": true
   },
   "outputs": [],
   "source": [
    "pd.DataFrame(feier_lin300_6250,columns=['ctr','spend','cpc','cpm','clicks']).to_csv(\"feier_lin300_6250.csv\")"
   ]
  },
  {
   "cell_type": "code",
   "execution_count": 4,
   "metadata": {
    "collapsed": false
   },
   "outputs": [],
   "source": [
    "qian_lin300_6250=pd.read_csv('qian_lin300_6250.csv')# column as ctr\tspend\tcpc\tcpm\tclicks"
   ]
  },
  {
   "cell_type": "code",
   "execution_count": 5,
   "metadata": {
    "collapsed": false
   },
   "outputs": [],
   "source": [
    "mingda_lin300_6250=pd.read_csv('mingda_lin300_6250.csv')"
   ]
  },
  {
   "cell_type": "code",
   "execution_count": 25,
   "metadata": {
    "collapsed": false
   },
   "outputs": [],
   "source": [
    "feier_lin300_6250=pd.read_csv('feierfinal.csv')"
   ]
  },
  {
   "cell_type": "code",
   "execution_count": 92,
   "metadata": {
    "collapsed": false
   },
   "outputs": [
    {
     "data": {
      "image/png": "[encoded data removed]",
      "text/plain": [
       "<matplotlib.figure.Figure at 0x115e07c88>"
      ]
     },
     "metadata": {},
     "output_type": "display_data"
    }
   ],
   "source": [
    "plt.plot(qian_lin300_6250['ctr'], label =\"Linear bidding strategy\")\n",
    "#plt.plot(mingda_lin300_6250['ctr'], label=\"FTRL\")\n",
    "plt.plot(qian_diff_c_6250['ctr'],label=\"Nonlinear bidding strategy\")\n",
    "plt.xlabel(\"Base bid|C value\")\n",
    "plt.ylabel(\"CTR\")\n",
    "plt.legend(loc=0)\n",
    "plt.show()\n",
    "#plt.tight_layout()\n",
    "#plt.savefig('qian_compare_ctr.png',dpi=400)"
   ]
  },
  {
   "cell_type": "code",
   "execution_count": 56,
   "metadata": {
    "collapsed": false
   },
   "outputs": [],
   "source": [
    "plt.plot(qian_lin300_6250['clicks'], label =\"Linear bidding strategy\")\n",
    "#plt.plot(mingda_lin300_6250['ctr'], label=\"FTRL\")\n",
    "plt.plot(qian_diff_c_6250['clicks'],label=\"Nonlinear bidding strategy\")\n",
    "plt.xlabel(\"Base bid|C value\")\n",
    "plt.ylabel(\"Clicks\")\n",
    "plt.legend(loc=0)\n",
    "#plt.show()\n",
    "plt.tight_layout()\n",
    "plt.savefig('qian_compare_clicks.png',dpi=400)"
   ]
  },
  {
   "cell_type": "code",
   "execution_count": 60,
   "metadata": {
    "collapsed": false
   },
   "outputs": [],
   "source": [
    "plt.plot(qian_lin300_6250['cpc'], label =\"Linear bidding strategy\")\n",
    "#plt.plot(mingda_lin300_6250['ctr'], label=\"FTRL\")\n",
    "plt.plot(qian_diff_c_6250['cpc'],label=\"Nonlinear bidding strategy\")\n",
    "plt.xlabel(\"Base bid|C value\")\n",
    "plt.ylabel(\"Cpc\")\n",
    "plt.legend(loc=4)\n",
    "#plt.show()\n",
    "plt.tight_layout()\n",
    "plt.savefig('qian_compare_cpc.png',dpi=400)"
   ]
  },
  {
   "cell_type": "code",
   "execution_count": 64,
   "metadata": {
    "collapsed": false
   },
   "outputs": [],
   "source": [
    "plt.plot(qian_lin300_6250['spend'], label =\"Linear bidding strategy\")\n",
    "#plt.plot(mingda_lin300_6250['ctr'], label=\"FTRL\")\n",
    "plt.plot(qian_diff_c_6250['spend'],label=\"Nonlinear bidding strategy\")\n",
    "plt.xlabel(\"Base bid|C value\")\n",
    "plt.ylabel(\"Spend\")\n",
    "plt.legend(loc=4)\n",
    "#plt.show()\n",
    "plt.tight_layout()\n",
    "plt.savefig('qian_compare_spend.png',dpi=400)"
   ]
  },
  {
   "cell_type": "code",
   "execution_count": 74,
   "metadata": {
    "collapsed": false
   },
   "outputs": [],
   "source": [
    "plt.plot(qian_lin300_6250['cpm'], label =\"Linear bidding strategy\")\n",
    "#plt.plot(mingda_lin300_6250['ctr'], label=\"FTRL\")\n",
    "plt.plot(qian_diff_c_6250['cpm'],label=\"Nonlinear bidding strategy\")\n",
    "plt.xlabel(\"Base bid|C value\")\n",
    "plt.ylabel(\"CPM\")\n",
    "plt.legend(loc=4)\n",
    "#plt.show()\n",
    "#plt.tight_layout()\n",
    "#plt.savefig('qian_compare_cpm.png',dpi=400)"
   ]
  },
  {
   "cell_type": "code",
   "execution_count": 70,
   "metadata": {
    "collapsed": false
   },
   "outputs": [
    {
     "data": {
      "image/png": "[encoded data removed]",
      "text/plain": [
       "<matplotlib.figure.Figure at 0x1185c1a20>"
      ]
     },
     "metadata": {},
     "output_type": "display_data"
    }
   ],
   "source": [
    "plt.plot(qian_lin300_6250['spend'], label =\"Decision Tree\")\n",
    "plt.plot(mingda_lin300_6250['spend'], label=\"FTRL\")\n",
    "plt.plot(feier_lin300_6250['Spend'],label=\"Random Forest\")\n",
    "plt.xlabel(\"Base bid|C value\")\n",
    "plt.ylabel(\"Spend\")\n",
    "plt.legend(loc=0)\n",
    "plt.show()\n",
    "#plt.tight_layout()\n",
    "#plt.savefig('3best_spend.png',dpi=400)"
   ]
  },
  {
   "cell_type": "code",
   "execution_count": 39,
   "metadata": {
    "collapsed": false
   },
   "outputs": [],
   "source": [
    "plt.plot(qian_lin300_6250['cpc'], label =\"Decision Tree\")\n",
    "plt.plot(mingda_lin300_6250['cpc'], label=\"FTRL\")\n",
    "plt.plot(feier_lin300_6250['CPC'],label=\"Random Forest\")\n",
    "plt.xlabel(\"Base bid|C value\")\n",
    "plt.ylabel(\"CPC\")\n",
    "plt.legend(loc=0)\n",
    "#plt.show()\n",
    "plt.tight_layout()\n",
    "plt.savefig('3best_cpc.png',dpi=400)"
   ]
  },
  {
   "cell_type": "code",
   "execution_count": null,
   "metadata": {
    "collapsed": true
   },
   "outputs": [],
   "source": [
    "plt.plot(qian_lin300_6250['cpc'], label =\"Decision Tree\")\n",
    "plt.plot(mingda_lin300_6250['cpc'], label=\"FTRL\")\n",
    "plt.plot(feier_lin300_6250['CPC'],label=\"Random Forest\")\n",
    "plt.xlabel(\"Base bid|C value\")\n",
    "plt.ylabel(\"CPC\")\n",
    "plt.legend(loc=0)\n",
    "#plt.show()\n",
    "plt.tight_layout()\n",
    "plt.savefig('3best_cpc.png',dpi=400)"
   ]
  },
  {
   "cell_type": "code",
   "execution_count": 44,
   "metadata": {
    "collapsed": true
   },
   "outputs": [],
   "source": [
    "qian_diff_c_6250=pd.read_csv('qian_diff_c_6250.csv')"
   ]
  },
  {
   "cell_type": "code",
   "execution_count": 49,
   "metadata": {
    "collapsed": false
   },
   "outputs": [
    {
     "data": {
      "text/plain": [
       "132"
      ]
     },
     "execution_count": 49,
     "metadata": {},
     "output_type": "execute_result"
    }
   ],
   "source": [
    "max(list(qian_lin300_6250['clicks']))"
   ]
  },
  {
   "cell_type": "code",
   "execution_count": 50,
   "metadata": {
    "collapsed": false
   },
   "outputs": [
    {
     "data": {
      "text/plain": [
       "131"
      ]
     },
     "execution_count": 50,
     "metadata": {},
     "output_type": "execute_result"
    }
   ],
   "source": [
    "max(list(qian_diff_c_6250['clicks']))"
   ]
  },
  {
   "cell_type": "code",
   "execution_count": 412,
   "metadata": {
    "collapsed": false
   },
   "outputs": [],
   "source": [
    "qian_lin_click=get_lin_n(qian_lin300_6250,4)"
   ]
  },
  {
   "cell_type": "code",
   "execution_count": 413,
   "metadata": {
    "collapsed": false
   },
   "outputs": [],
   "source": [
    ",mingda_lin_clicks=get_lin_n(mingda_lin300_6250,4)#,feier_lin_clicks=get_lin_n(feier_lin300_6250,4)"
   ]
  },
  {
   "cell_type": "code",
   "execution_count": 414,
   "metadata": {
    "collapsed": true
   },
   "outputs": [],
   "source": [
    "feier_lin_clicks=get_lin_n(feier_lin300_6250,4)"
   ]
  },
  {
   "cell_type": "code",
   "execution_count": 416,
   "metadata": {
    "collapsed": false
   },
   "outputs": [],
   "source": [
    "plt.plot(qian_lin_click, label =\"Decision Tree\")\n",
    "plt.plot(mingda_lin_clicks, label=\"FTRL\")\n",
    "plt.plot(feier_lin_clicks,label=\"Random Forest\")\n",
    "plt.xlabel(\"Base bid\")\n",
    "plt.ylabel(\"Clicks\")\n",
    "plt.legend(loc=0)\n",
    "#plt.show()\n",
    "plt.tight_layout()\n",
    "plt.savefig('linearclick.png',dpi=400)"
   ]
  },
  {
   "cell_type": "code",
   "execution_count": 313,
   "metadata": {
    "collapsed": false
   },
   "outputs": [
    {
     "data": {
      "image/png": "[encoded data removed]",
      "text/plain": [
       "<matplotlib.figure.Figure at 0x1433d35f8>"
      ]
     },
     "metadata": {},
     "output_type": "display_data"
    }
   ],
   "source": [
    "#all ctr linear bidding strategy performance at different basebid\n",
    "plt.plot(treebest_clicks_lin, label =\"Decision Tree\")\n",
    "plt.plot(mingdaclicks_underbudget, label=\"FTRL\")\n",
    "plt.xlabel(\"Base bid\")\n",
    "plt.ylabel(\"Clicks\")\n",
    "plt.legend(loc=0)\n",
    "plt.show()\n"
   ]
  },
  {
   "cell_type": "code",
   "execution_count": null,
   "metadata": {
    "collapsed": true
   },
   "outputs": [],
   "source": [
    "def random_budget(low,h,budget,df):\n",
    "    bidding = [np.random.randint(low=low,high=h)  for i in range(len(df))]\n",
    "    new= df.assign(bidding = bidding, diff= bidding -df['payprice'])\n",
    "    new= new[new['diff'] >= 0]\n",
    "    cost= 0\n",
    "    index= 0\n",
    "    for pay in new.payprice:\n",
    "        cost= pay + cost\n",
    "        index += 1\n",
    "        if cost/1000 >= budget:\n",
    "            break\n",
    "        \n",
    "    \n",
    "    clicks =sum(new['click'][:index])\n",
    "    ctr= clicks/index\n",
    "    spend = sum(new['payprice'][:index])/1000\n",
    "    cpc = spend/clicks\n",
    "    cpm = spend/index\n",
    "    return [ctr,spend,cpc,cpm,clicks]\n",
    "\n",
    "#calculate random bidding evaluation matrix\n",
    " train_random=[]\n",
    "for i in range(1,300):\n",
    "    b=random_budget(0, i ,6250, train)\n",
    "    train_random.append(b[4])\n",
    "    \n",
    "val_random=[]\n",
    "for i in range(1,300):\n",
    "    a=random_budget(0, i ,6250, train)\n",
    "    train_random.append(a[4])\n",
    "   "
   ]
  },
  {
   "cell_type": "code",
   "execution_count": 254,
   "metadata": {
    "collapsed": true
   },
   "outputs": [],
   "source": [
    "#conduct performance evaluation on traindata\n",
    "def train_budget(bidding,budget):\n",
    "    new= train.assign(bidding = bidding, diff= bidding -train['payprice'])\n",
    "    new= new[new['diff'] >= 0]\n",
    "    cost= 0\n",
    "    index= 0\n",
    "    for pay in new.payprice:\n",
    "        cost= pay + cost\n",
    "        index += 1\n",
    "        if cost/1000 >= budget:\n",
    "            break\n",
    "        \n",
    "    \n",
    "    clicks =sum(new['click'][:index])\n",
    "    ctr= clicks/index\n",
    "    spend = sum(new['payprice'][:index])/1000\n",
    "    cpc = spend/clicks\n",
    "    cpm = spend/index\n",
    "    return [ctr,spend,cpc,cpm,clicks]"
   ]
  },
  {
   "cell_type": "code",
   "execution_count": null,
   "metadata": {
    "collapsed": true
   },
   "outputs": [],
   "source": [
    "def random_budget(low,h,budget,df):\n",
    "    bidding = [np.random.randint(low=low,high=h)  for i in range(len(df))]\n",
    "    new= df.assign(bidding = bidding, diff= bidding -df['payprice'])\n",
    "    new= new[new['diff'] >= 0]\n",
    "    cost= 0\n",
    "    index= 0\n",
    "    for pay in new.payprice:\n",
    "        cost= pay + cost\n",
    "        index += 1\n",
    "        if cost/1000 >= budget:\n",
    "            break\n",
    "        \n",
    "    \n",
    "    clicks =sum(new['click'][:index])\n",
    "    ctr= clicks/index\n",
    "    spend = sum(new['payprice'][:index])/1000\n",
    "    cpc = spend/clicks\n",
    "    cpm = spend/index\n",
    "    return [ctr,spend,cpc,cpm,clicks]\n",
    "    "
   ]
  },
  {
   "cell_type": "code",
   "execution_count": null,
   "metadata": {
    "collapsed": true
   },
   "outputs": [],
   "source": [
    "#produce random bidding graph\n",
    "random_100 = [random_budget(0,165,6250,validation) for _ in range(100)]\n",
    "random_100_clicks=[random_100[i][4] for i in range(100)]\n",
    "random_100_clicks_df=pd.DataFrame(random_100_clicks)\n",
    "plt.figure()\n",
    "ran_train=random_100_clicks_df[0].plot(kind='hist')\n",
    "ran_train.set_ylabel('Clicks')\n",
    "ran_train.set_xlabel('The upper bound')\n",
    "\n",
    "plt.tight_layout()\n",
    "plt.savefig('randombiddingdist.png',dpi=400)\n",
    "\n",
    "plt.hist(random_100_clicks)"
   ]
  },
  {
   "cell_type": "code",
   "execution_count": null,
   "metadata": {
    "collapsed": true
   },
   "outputs": [],
   "source": [
    "df_random=[]\n",
    "for i in range (1,300):\n",
    "    a=random_budget(0,i,6250,validation)\n",
    "    df_random.append(a[4])\n",
    "    \n",
    "    train_random=[]\n",
    "for i in range(1,300):\n",
    "    b=random_budget(0, i ,6250, train)\n",
    "    train_random.append(b[4])\n"
   ]
  },
  {
   "cell_type": "code",
   "execution_count": null,
   "metadata": {
    "collapsed": true
   },
   "outputs": [],
   "source": [
    "df_random=pd.DataFrame(df_random)\n",
    "df_random.to_csv('random bidding on valdata need traindata.csv')\n",
    "\n",
    "random_x=range(1,300)\n",
    "plt.plot(random_x,df_random)\n",
    "plt.xlabel('Random bid')\n",
    "plt.ylabel('Clicks')\n",
    "plt.figure()\n",
    "\n",
    "randomx= df_random[0].plot()\n",
    "randomx.set_ylabel('Clicks')\n",
    "randomx.set_xlabel('Random bidding price')\n",
    "\n",
    "plt.grid(True)\n",
    "plt.tight_layout()\n",
    "plt.savefig('ran_bid_vali.png',dpi=400)"
   ]
  },
  {
   "cell_type": "markdown",
   "metadata": {},
   "source": [
    "## constant bidding "
   ]
  },
  {
   "cell_type": "code",
   "execution_count": null,
   "metadata": {
    "collapsed": true
   },
   "outputs": [],
   "source": [
    "def constant_budget(bid,budget):\n",
    "    bidding = [bid  for i in range(len(train))]\n",
    "    new= train.assign(bidding = bidding, diff= bidding -train['payprice'])\n",
    "    new= new[new['diff'] >= 0]\n",
    "    cost= 0\n",
    "    index= 0\n",
    "    for pay in new.payprice:\n",
    "        cost= pay + cost\n",
    "        index += 1\n",
    "        if cost/1000 >= budget:\n",
    "            break\n",
    "        \n",
    "    \n",
    "    clicks =sum(new['click'][:index])\n",
    "    ctr= clicks/index\n",
    "    spend = sum(new['payprice'][:index])/1000\n",
    "    cpc = spend/clicks\n",
    "    cpm = spend/index\n",
    "    return [ctr,spend,cpc,cpm,clicks]\n",
    "\n",
    "\n",
    "constant_r_train=[]\n",
    "for i in range(1,300):\n",
    "    a= constant_budget(i,6250)\n",
    "    constant_r_train.append(a)"
   ]
  },
  {
   "cell_type": "code",
   "execution_count": null,
   "metadata": {
    "collapsed": true
   },
   "outputs": [],
   "source": [
    "\n",
    "constant_clicks = [i[4] for i in constant_r]\n",
    "constant_clicksdf[0]\n",
    "constant_clicks_train.index(max(constant_clicks_train))\n",
    "constant_clicksdf[0]"
   ]
  },
  {
   "cell_type": "code",
   "execution_count": null,
   "metadata": {
    "collapsed": true
   },
   "outputs": [],
   "source": [
    "plt.figure()\n",
    "ax= constant_clicksdf[0].plot(label='Validation data')\n",
    "ax=constant_clicks_traindf[0].plot(label='Train data')\n",
    "ax.set_ylabel('Clicks')\n",
    "ax.set_xlabel('Bid price')\n",
    "#ax.set_xticks(np.arange(0,305,20))\n",
    "#ax.set_yticks(np.arange(0,100,1))\n",
    "plt.legend()\n",
    "plt.grid(True)\n",
    "plt.tight_layout()\n",
    "plt.savefig('cons_bid_train_vali.png',dpi=400)"
   ]
  },
  {
   "cell_type": "markdown",
   "metadata": {},
   "source": [
    "## evaluate estimator with RMSE and AUC"
   ]
  },
  {
   "cell_type": "code",
   "execution_count": null,
   "metadata": {
    "collapsed": true
   },
   "outputs": [],
   "source": [
    "from sklearn.metrics import mean_squared_error\n",
    "import numpy as np\n",
    "\n",
    "true_click=validation['click']\n",
    "mean_squared_error(true_click,tree_click_ctr )"
   ]
  },
  {
   "cell_type": "code",
   "execution_count": null,
   "metadata": {
    "collapsed": true
   },
   "outputs": [],
   "source": [
    "from sklearn.metrics import roc_curve\n",
    "from sklearn.metrics import auc\n",
    "from sklearn import metrics\n",
    "\n",
    "#roc_curve(true_click, lg_click_ctr, pos_label=2)  fpr, tpr, thresholds = metrics.roc_curve(y, scores, pos_label=2)\n",
    "\n",
    "from sklearn.metrics import roc_curve\n",
    "from sklearn.metrics import auc\n",
    "from sklearn import metrics\n",
    "fpr, tpr, thresholds = metrics.roc_curve(true_click, lg_click_ctr)\n",
    "print (\"The AUC is:\",metrics.auc(fpr, tpr))\n",
    "plt.figure()\n",
    "lw = 2\n",
    "plt.plot(fpr[2], tpr[2], color='darkorange',\n",
    "         lw=lw, label='ROC curve (area = %0.2f)' % roc_auc[2])\n",
    "plt.plot([0, 1], [0, 1], color='navy', lw=lw, linestyle='--')\n",
    "plt.xlim([0.0, 1.0])\n",
    "plt.ylim([0.0, 1.05])\n",
    "plt.xlabel('False Positive Rate')\n",
    "plt.ylabel('True Positive Rate')\n",
    "plt.title('Receiver operating characteristic example')\n",
    "plt.legend(loc=\"lower right\")\n",
    "plt.show()\n",
    "#roc_auc = auc(fpr, tpr)"
   ]
  },
  {
   "cell_type": "code",
   "execution_count": null,
   "metadata": {
    "collapsed": true
   },
   "outputs": [],
   "source": [
    "lin_lg_result=[result(i * (lg_click_ctr/val_avgCTR)) for i in range(1,300)]"
   ]
  },
  {
   "cell_type": "code",
   "execution_count": 253,
   "metadata": {
    "collapsed": false
   },
   "outputs": [
    {
     "data": {
      "text/plain": [
       "0.0007539649884458758"
      ]
     },
     "execution_count": 253,
     "metadata": {},
     "output_type": "execute_result"
    }
   ],
   "source": [
    "train_avgCTR=sum(train.click)/len(train)\n",
    "train_avgCTR"
   ]
  },
  {
   "cell_type": "markdown",
   "metadata": {},
   "source": [
    "## test on ctr estimator ensembling"
   ]
  },
  {
   "cell_type": "code",
   "execution_count": 247,
   "metadata": {
    "collapsed": false
   },
   "outputs": [],
   "source": [
    "finalist = [treelist[i]+mingdalist[i] for i in range(len(mingdalist))]"
   ]
  },
  {
   "cell_type": "code",
   "execution_count": null,
   "metadata": {
    "collapsed": true
   },
   "outputs": [],
   "source": [
    "best = []\n",
    "for c in range(1,200,1):\n",
    "   \n",
    "    bid_price_nonlinear=[]\n",
    "    for b in finalist:\n",
    "        \n",
    "        bid_price_nonlinear.append(get_optimalbidprice(b,c))\n",
    "    #validation_budget(bid_price_nonlinear,6250)\n",
    "    best.append(validation_budget(bid_price_nonlinear,6250)[4])\n",
    "    print(validation_budget(bid_price_nonlinear,6250)[4])"
   ]
  },
  {
   "cell_type": "code",
   "execution_count": 288,
   "metadata": {
    "collapsed": true
   },
   "outputs": [],
   "source": [
    "ftrlpd=pd.read_csv('ftrltrain.csv')"
   ]
  },
  {
   "cell_type": "code",
   "execution_count": 291,
   "metadata": {
    "collapsed": false
   },
   "outputs": [],
   "source": [
    "ftrllist=list(ftrlpd['target'])"
   ]
  },
  {
   "cell_type": "code",
   "execution_count": 294,
   "metadata": {
    "collapsed": false
   },
   "outputs": [
    {
     "data": {
      "text/plain": [
       "(2697738, 299749)"
      ]
     },
     "execution_count": 294,
     "metadata": {},
     "output_type": "execute_result"
    }
   ],
   "source": [
    "len(ftrllist), len(validation)"
   ]
  },
  {
   "cell_type": "code",
   "execution_count": 295,
   "metadata": {
    "collapsed": true
   },
   "outputs": [],
   "source": [
    "ftr_avg=sum(ftrllist)/len(ftrllist)"
   ]
  },
  {
   "cell_type": "code",
   "execution_count": 296,
   "metadata": {
    "collapsed": false
   },
   "outputs": [],
   "source": [
    "ftr_clicks_lin=[train_budget(i * (ftrllist/ftr_avg),6250)[4] for i in range (0,300)]"
   ]
  },
  {
   "cell_type": "code",
   "execution_count": 300,
   "metadata": {
    "collapsed": false
   },
   "outputs": [
    {
     "data": {
      "text/plain": [
       "21"
      ]
     },
     "execution_count": 300,
     "metadata": {},
     "output_type": "execute_result"
    }
   ],
   "source": [
    "ftr_clicks_lin.index(max(ftr_clicks_lin))"
   ]
  },
  {
   "cell_type": "code",
   "execution_count": 305,
   "metadata": {
    "collapsed": false
   },
   "outputs": [
    {
     "data": {
      "text/plain": [
       "88"
      ]
     },
     "execution_count": 305,
     "metadata": {},
     "output_type": "execute_result"
    }
   ],
   "source": [
    "mingdaclicks_underbudget[21]\n"
   ]
  },
  {
   "cell_type": "code",
   "execution_count": 312,
   "metadata": {
    "collapsed": false
   },
   "outputs": [
    {
     "data": {
      "image/png": "[encoded data removed]",
      "text/plain": [
       "<matplotlib.figure.Figure at 0x11399e0b8>"
      ]
     },
     "metadata": {},
     "output_type": "display_data"
    }
   ],
   "source": [
    "#mingda ctr on both train and validation data, linear bidding performance with different base bid\n",
    "plt.plot(ftr_clicks_lin, label='Train data')\n",
    "plt.plot(mingdaclicks_underbudget, label='Validation data')\n",
    "plt.xlabel(\"Base bid\")\n",
    "plt.ylabel(\"Clicks\")\n",
    "plt.legend(loc=0)\n",
    "plt.show()\n",
    "\n",
    "#plt.tight_layout()\n",
    "#plt.savefig('mingdactr_ontrain_validation.png',dpi=400)"
   ]
  }
 ],
 "metadata": {
  "anaconda-cloud": {},
  "kernelspec": {
   "display_name": "Python [conda root]",
   "language": "python",
   "name": "conda-root-py"
  },
  "language_info": {
   "codemirror_mode": {
    "name": "ipython",
    "version": 3
   },
   "file_extension": ".py",
   "mimetype": "text/x-python",
   "name": "python",
   "nbconvert_exporter": "python",
   "pygments_lexer": "ipython3",
   "version": "3.5.2"
  }
 },
 "nbformat": 4,
 "nbformat_minor": 1
}
